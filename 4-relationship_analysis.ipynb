{
 "cells": [
  {
   "cell_type": "code",
   "execution_count": 1,
   "metadata": {},
   "outputs": [],
   "source": [
    "import pandas as pd\n",
    "import numpy as np\n",
    "import matplotlib.pyplot as plt\n",
    "\n",
    "# From 3-initial_analysis.py -> the mean of reddit submissions dataset\n",
    "DATA_SET_MEAN = 37.84489897479949"
   ]
  },
  {
   "cell_type": "markdown",
   "metadata": {},
   "source": [
    "# Analysis of Data\n",
    "Conducting analysis of data of the two subsets of reddit submissions data.  \n",
    "1. Above average submissions (score greater than DATA_SET_MEAN)\n",
    "2. Below average submissions (subsampled submissions with score less than DATA_SET_MEAN)"
   ]
  },
  {
   "cell_type": "code",
   "execution_count": 6,
   "metadata": {},
   "outputs": [],
   "source": [
    "above_avg = pd.read_json('./data-subsets/submissions-above-avg.json.gz', lines=True, orient='records', compression='gzip')\n",
    "below_avg = pd.read_json('./data-subsets/submissions-below-avg.json.gz', lines=True, orient='records', compression='gzip')"
   ]
  },
  {
   "cell_type": "markdown",
   "metadata": {},
   "source": [
    "## Post Title Analysis\n",
    "\n",
    "Does the length of the post title have an affect on the submission score?  \n",
    "Between above average and below average submissions, is there a difference in their title lengths?"
   ]
  },
  {
   "cell_type": "code",
   "execution_count": null,
   "metadata": {},
   "outputs": [],
   "source": []
  },
  {
   "cell_type": "markdown",
   "metadata": {},
   "source": [
    "## User Post Frequency Analysis\n",
    "\n",
    "Does the frequency in which a user posts in certain subreddit affect their submission performance?  \n",
    "Are above average posts from users that frequently post more? Are below average posts from users that post less?"
   ]
  },
  {
   "cell_type": "code",
   "execution_count": null,
   "metadata": {},
   "outputs": [],
   "source": []
  },
  {
   "cell_type": "markdown",
   "metadata": {},
   "source": [
    "## Post Time Analysis\n",
    "\n",
    "Does the time in which a post is created affect the performance at all?  \n",
    "How do submissions scores that are posted during peak reddit usage times differ from posts made outside these times?  \n",
    "Does the number of posts made in a time period affect the average score of submissions?"
   ]
  },
  {
   "cell_type": "code",
   "execution_count": null,
   "metadata": {},
   "outputs": [],
   "source": []
  }
 ],
 "metadata": {
  "kernelspec": {
   "display_name": "Python 3",
   "language": "python",
   "name": "python3"
  },
  "language_info": {
   "codemirror_mode": {
    "name": "ipython",
    "version": 3
   },
   "file_extension": ".py",
   "mimetype": "text/x-python",
   "name": "python",
   "nbconvert_exporter": "python",
   "pygments_lexer": "ipython3",
   "version": "3.8.10"
  }
 },
 "nbformat": 4,
 "nbformat_minor": 2
}
